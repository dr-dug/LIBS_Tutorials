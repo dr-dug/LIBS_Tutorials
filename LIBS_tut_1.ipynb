{
 "cells": [
  {
   "cell_type": "markdown",
   "metadata": {},
   "source": [
    "# Laser Induced Breakdown Spectroscopy Analysis\n",
    "## Tutorial 1: Introduction to the Basics"
   ]
  },
  {
   "cell_type": "markdown",
   "metadata": {},
   "source": [
    "Laser Induced Breakdown Spectroscopy (from here on referred to by the common acronym, LIBS) is a powerful tool for the chemical analysis of solid, liquid and gas samples.  In this, and the following documents, we will explore the technique.\n",
    "\n",
    "This first tutorial establishes some of the key equations and concepts that we will use throughout the rest of the series.  If formula derivations are not your interest you can skip to the next section\n",
    "\n",
    "As is described elsewhere, all LIBS analysis is based on the following equation:\n",
    "\n",
    "$\\begin{aligned}\n",
    "I = \\alpha \\frac{8 \\pi h c}{\\lambda^3} e^{\\frac{-(E_k - E_i)}{kT}} \\left ( 1-exp\\left [ -\\frac{\\sqrt{ln2}}{4 \\pi \\sqrt{\\pi}} \\frac{\\lambda^2}{\\Delta \\nu_D} \\frac{g_k A_{ki} N}{U(T))} e^{\\frac{-E_i}{kT}} K(a,x)) \\right ] l \\right )\n",
    "\\end{aligned} $$\n",
    "where\n",
    "$$\\begin{aligned}\n",
    "I &=Intensity \\\\\n",
    "\\alpha &=scaling\\quad factor \\\\\n",
    "T &=temperature \\\\\n",
    "U(T) &= partition\\quad function \\\\\n",
    "A_{ki} &= Einstein \\quad Coefficient \\quad for \\quad the \\quad transition \\\\\n",
    "g_{k} &= Lower\\quad level \\quad degeneracy \\\\\n",
    "E_{k} &= Upper\\quad level \\quad energy \\\\\n",
    "E_{i} &= Lower\\quad level \\quad energy \\\\\n",
    "k &=Boltzmann's \\quad constant \\\\\n",
    "\\Delta \\nu_D &= Doppler \\quad linewidth\\\\\n",
    "N &= Number \\quad of \\quad atoms \\quad of \\quad the \\quad element \\quad in  \\quad plasma/sample\\\\\n",
    "K &= Lineshape \\\\\n",
    "l &= absorption  \\quad path \\quad length ( \\quad that  \\quad is, \\quad plasma \\quad size)\\\\\n",
    "K(a, x) &= Shape \\quad of \\quad the \\quad peak, \\quad where \\quad a \\quad is \\quad the \\quad gaussian \\quad width \\quad and \\quad x \\quad is \\quad the \\quad lorentzian \\quad width\\\\\n",
    " \\end{aligned} $"
   ]
  },
  {
   "cell_type": "markdown",
   "metadata": {},
   "source": [
    "Collecting together constants (to simplify things a little)\n",
    "\n",
    "$ \\begin{aligned}\n",
    "I = X e^{\\frac{-(E_k - E_i)}{kT}} \\left ( 1-exp\\left [ Y \\frac{g_k A_{ki} C}{U(T))} K(a,x) e^{\\frac{-E_i}{kT}} \\right ] \\right )\n",
    "\\end{aligned} $"
   ]
  },
  {
   "cell_type": "markdown",
   "metadata": {},
   "source": [
    "where C is the concentration of the element in the sample.\n",
    "\n",
    "Using the Taylor expansion:\n",
    "\n",
    "$ \\begin{aligned}\n",
    "e^x = \\sum _{n=1}^\\infty \\frac{x^n}{n!}\n",
    "\\end{aligned} $\n",
    "\n",
    "gives\n",
    "\n",
    "$\\begin{aligned}\n",
    "I &= X e^{\\frac{-(E_k - E_i)}{kT}} \\left ( 1-\\left [1- Y \\frac{g_k A_{ki} C}{U(T)} K(a,x) e^{\\frac{-E_i}{kT}} + \\frac {1}{2} \\left ( Y \\frac{g_k A_{ki} C}{U(T)} K(a,x) e^{\\frac{-E_i}{kT}}\\right)^2 - \\frac {1}{3!} \\left ( Y \\frac{g_k A_{ki} C}{U(T)} K(a,x) e^{\\frac{-E_i}{kT}}\\right)^3... \\right ] \\right ) \n",
    "\\end{aligned} $\n",
    "\n",
    "$\\begin{aligned}\n",
    "= X e^{\\frac{-(E_k - E_i)}{kT}} \\left ( Y \\frac{g_k A_{ki} C}{U(T)} K(a,x) e^{\\frac{-E_i}{kT}} - \\frac {1}{2} \\left ( Y \\frac{g_k A_{ki} C}{U(T)} K(a,x) e^{\\frac{-E_i}{kT}}\\right)^2 + \\frac {1}{3!} \\left ( Y \\frac{g_k A_{ki} C}{U(T)} K(a,x) e^{\\frac{-E_i}{kT}}\\right)^3...\\right ) \n",
    "\\end{aligned} $\n",
    "\n",
    "$\\begin{aligned}\n",
    "=X   Y \\frac{g_k A_{ki} C}{U(T)} K(a,x) e^{\\frac{-E_k}{kT}} - e^{\\frac{-E_k}{kT}} e^{\\frac{-E_i}{kT}}\\left [ \\frac {X}{2} \\left ( Y \\frac{g_k A_{ki} C}{U(T)} K(a,x) \\right)^2  - \\frac {1}{3!} \\left ( Y \\frac{g_k A_{ki} C}{U(T)} K(a,x) \\right)^3 e^{\\frac{-2E_i}{kT}} ...\\right ]\n",
    "\\end{aligned} $"
   ]
  },
  {
   "cell_type": "markdown",
   "metadata": {},
   "source": [
    "## The LIBS Equation\n",
    "Under many circumstances (we will return to this statement later), we can ignore all but the first term in the expansion to give us the 'LIBS Equation'\n",
    "\n",
    "$\\begin{aligned}\n",
    "I = X Y \\frac{g_k A_{ki} C}{U(T)} K(a,x) e^{\\frac{-E_k}{kT}}  = C \\left ( X Y \\right ) \\left (g_k A_{ki} \\right) \\left (\\frac{e^{\\frac{-E_k}{kT}}} {U(T)} \\right) K(a,x)\n",
    "\\end{aligned} $\n",
    "\n",
    "(where additional brackets have been added to group the terms).  \n",
    "\n",
    "Things to notice, the intensity of a peak in the LIBS spectra is:-\n",
    "* directly (linearly) proportional to concentration of the element [first group]\n",
    "* dependent on the properties of the collection system (spectrometer(s), optical fibres).  \n",
    "* different for each peak [third group]\n",
    "* very sensitive (non-linearly proportional) to the temperature of the plasma. [fourth group] \n",
    "\n",
    "\n"
   ]
  },
  {
   "cell_type": "markdown",
   "metadata": {},
   "source": [
    "### Matrix Effects [or Energy Balance]\n",
    "As can be seen from the 'LIBS Equation', determining the concentration of an element by measuring the intensity of peak only 'works' if everything after the concentration term remains constant across all the samples.\n",
    "Most LIBS experiments involve focussing a laser of fixed energy onto the sample, hence, the enery into the system is roughly constant.  From the laser, the light:-\n",
    "* travels through the optics\n",
    "* is focussed onto the sample\n",
    "* heats the sample through its phases (solid to liquid to gas to plasma)\n",
    "\n",
    "with the energy 'left over' going to heat the plasma (that is, the T in the LIBS equation).\n",
    "\n",
    "If any stage has significant variation:-\n",
    "\n",
    "a) dirt on the optics, jitter in the laser energy, changes in beam cross shape\n",
    "\n",
    "b) dust on the lens or between the lens and the sample (for example, material ejected during the previous analysis laser pulse)\n",
    "\n",
    "c) different absorption of laser energy due to sample colour or transparency, different energy required to melt/boil sample (this last one is sometimes called 'matrix effects')\n",
    "\n",
    "then the energy available to heat the plasma is different and the variation in the other terms is greater than due to the concentration and no chemical analysis is possible - given how sensitive the LIBS Equation is to the Temperature, it is sometimes a wonder that LIBS works as well as it does!!!!\n",
    "\n",
    "Similarly, the different energies involved in absorption/melting/boiling/... are the reason that 1% Carbon in steel has a very different intensity to 1% Carbon in a geological sample which is very different to the intensity for 1% Carbon in Sea Water.....  \n"
   ]
  },
  {
   "cell_type": "markdown",
   "metadata": {},
   "source": [
    "##Visualising LIBS Spectra\n",
    "There are a number websites that will show the LIBS Spectra for a particular element.  These all utilise some variant of the LIBS Equation above, with a database backend.\n",
    "\n",
    "A far from exhaustive list of websites includes:-\n",
    "* <a src=\"https://physics.nist.gov/PhysRefData/ASD/LIBS/libs-form.html\">NIST LIBS Database</a>\n",
    "<img src=\"LIBS_Tutorials/images/NIST_HG.png\">\n",
    "Here the spectra for a liquid, Mercury.\n",
    "\n",
    "\n",
    "*  <a src=\"https://libs-info.com/element_anal/\">LIBS-Info</a> (click on an element in the periodic table to see the spectra)\n",
    "<img src=\"images/LIBSINFO_O.png\">\n",
    "Here the spectra for a gas, Oxygen.\n",
    "\n",
    "\n",
    "*  <a src=\"https://www.atomtrace.com/elements-database/\">AtomTrace</a> \n",
    "<img src=\"images/ATOMTRACE_U.png\">\n",
    "The Spectra for a solid, Uranium.\n",
    "\n",
    "\n",
    "In the examples above, the spectra have become increasingly complex across the transition from gas to liquid to solid.  However, this comes from the additional energy levels available from the increasingly larger atoms - the spectra of solid/frozen oxygen looks the same as the gas one. \n",
    "\n",
    "Each Element has a unique spectra.  This enables a skilled LIBS user to look at a spectra and state which elements are present in the sample.\n"
   ]
  },
  {
   "cell_type": "markdown",
   "metadata": {},
   "source": [
    "In the next couple of Tutorials we will explore the basics of LIBS analysis using some common tools.  The first one being a spreadsheet"
   ]
  }
 ],
 "metadata": {
  "kernelspec": {
   "display_name": "Python 3",
   "language": "python",
   "name": "python3"
  },
  "language_info": {
   "codemirror_mode": {
    "name": "ipython",
    "version": 3
   },
   "file_extension": ".py",
   "mimetype": "text/x-python",
   "name": "python",
   "nbconvert_exporter": "python",
   "pygments_lexer": "ipython3",
   "version": "3.6.6"
  }
 },
 "nbformat": 4,
 "nbformat_minor": 2
}
